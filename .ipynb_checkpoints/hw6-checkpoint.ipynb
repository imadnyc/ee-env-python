{
 "cells": [
  {
   "cell_type": "code",
   "execution_count": 1,
   "id": "2af5827b",
   "metadata": {},
   "outputs": [
    {
     "name": "stdout",
     "output_type": "stream",
     "text": [
      "(-59.99999999999997+103.92304845413264j)\n",
      "Solutions: [20.0 + 20.0*I]\n"
     ]
    }
   ],
   "source": [
    "import electricpy as ep\n",
    "from sympy import symbols, Eq, solve, I\n",
    "voltage = ep.phasor(60, -120)\n",
    "voltage2 = ep.phasor(60, 120)\n",
    "voltage3 = voltage + voltage2\n",
    "\n",
    "print(voltage2 * 2)\n",
    "\n",
    "\n",
    "z = symbols('z')\n",
    "equation = Eq(z /2, 10+10j)\n",
    "\n",
    "solutions = solve(equation, z)\n",
    " \n",
    "# printing solutions\n",
    "print(\"Solutions:\", solutions)\n",
    "\n"
   ]
  },
  {
   "cell_type": "code",
   "execution_count": 56,
   "id": "68d95f7e-e869-4b32-a487-292d85e5c4ee",
   "metadata": {},
   "outputs": [
    {
     "name": "stdout",
     "output_type": "stream",
     "text": [
      "IPython console for SymPy 1.12 (Python 3.11.7-64-bit) (ground types: python)\n",
      "\n",
      "These commands were executed:\n",
      ">>> from sympy import *\n",
      ">>> x, y, z, t = symbols('x y z t')\n",
      ">>> k, m, n = symbols('k m n', integer=True)\n",
      ">>> f, g, h = symbols('f g h', cls=Function)\n",
      ">>> init_printing()\n",
      "\n",
      "Documentation can be found at https://docs.sympy.org/1.12/\n",
      "\n",
      "\u001b[1m equation1 \u001b[0m is a*(6.0 - 8.0*I) + (6.0 - 8.0*I)*(a - b) - 675.0 - 389.711431702\n",
      "997*I\n",
      "\u001b[1m equation2 \u001b[0m is b*(6.0 - 8.0*I) + (6.0 - 8.0*I)*(-a + b) + 779.422863405995*I\n",
      "\u001b[1m solutions \u001b[0m is [{a: 27.0 + 36.0*I, b: 44.6769145362398 - 5.38268590217986*I}]\n",
      "\u001b[1m This will print the symbols of the variable, not the variable. Look at your symbols above. \u001b[0m\n",
      "\u001b[1m a \u001b[0m rectangular form is (27.00000000000003+35.99999999999998j)\n",
      "\u001b[1m a \u001b[0m phasor form is 45.0 ∠ 53.13°\n",
      "\u001b[1m b \u001b[0m rectangular form is (44.67691453623981-5.38268590217986j)\n",
      "\u001b[1m b \u001b[0m phasor form is 45.0 ∠ -6.87°\n",
      "\u001b[1m i2-i1 \u001b[0m rectangular form is (17.676914536239785-41.38268590217984j)\n",
      "\u001b[1m i2-i1 \u001b[0m phasor form is 45.0 ∠ -66.87°\n",
      "\u001b[1m i2 * -1 \u001b[0m rectangular form is (-44.67691453623981+5.38268590217986j)\n",
      "\u001b[1m i2 * -1 \u001b[0m phasor form is 45.0 ∠ 173.13°\n"
     ]
    }
   ],
   "source": [
    "import electricpy as ep\n",
    "from sympy import symbols, Eq, solve, I\n",
    "from varname import varname\n",
    "from __future__ import print_function\n",
    "from io import StringIO\n",
    "import sys\n",
    "from sympy import init_session\n",
    "\n",
    "init_session() \n",
    "#TODO fix making printing and enetering more expressions more elegant\n",
    "#TODO add pretty printing from sympy\n",
    "\n",
    "def debug(expression):\n",
    "    frame = sys._getframe(1)\n",
    "    # weird codes are just bolding and unbolding\n",
    "    print('\\033[1m', expression, '\\033[0m', 'is ', end=\"\")\n",
    "    pprint(repr(eval(expression, frame.f_globals, frame.f_locals)))\n",
    "    \n",
    "def print_rect_and_phasor(name, value):\n",
    "    print('\\033[1m', name, '\\033[0m', \"rectangular form is\", value)\n",
    "    print('\\033[1m', name, '\\033[0m', \"phasor form is \", end =\"\")\n",
    "    ep.cprint(value)\n",
    "    \n",
    "# declare what things you want to solve for. If I have i1, i2, v1, and v2, but I only need i1 and i2, \n",
    "# I will only add those to varlist\n",
    "varlist = [i1,i2]\n",
    "\n",
    "i1 = symbols('a')\n",
    "i2 = symbols('b')\n",
    "\n",
    "# write your equations here \n",
    "equation1 = (ep.phasor(-450, 0) + ((6-8j) * (i1)) + ((6-8j) * (i1-i2)) + ep.phasor(450, -120))\n",
    "debug('equation1')\n",
    "\n",
    "equation2 = (ep.phasor(-450,-120) + (6-8j) * (i2-i1) + i2 * (6-8j) + (ep.phasor(450,120)))\n",
    "debug('equation2')\n",
    "\n",
    "#solve the equations\n",
    "solutions = solve([equation1, equation2], varlist, dict=True)\n",
    "debug('solutions')\n",
    "\n",
    "\n",
    "print('\\033[1m', \"This will print the symbols of the variable, not the variable. Look at your symbols above.\", '\\033[0m')\n",
    "solutions = solutions[0]\n",
    "for count, value in enumerate(varlist):\n",
    "    temp = solutions[value]\n",
    "    temp = complex(temp)\n",
    "    print_rect_and_phasor(value,temp)\n",
    "    \n",
    "\n",
    "#Get whatever else you need\n",
    "#TODO: make this more elegant\n",
    "print_rect_and_phasor('i2-i1', complex(solutions[i2]-solutions[i1]))\n",
    "print_rect_and_phasor('i2 * -1', complex(solutions[i2] * -1))"
   ]
  },
  {
   "cell_type": "markdown",
   "id": "f569a832-f0b8-422b-8075-7ba70211a085",
   "metadata": {},
   "source": [
    "y"
   ]
  }
 ],
 "metadata": {
  "kernelspec": {
   "display_name": "Python 3",
   "language": "python",
   "name": "python3"
  },
  "language_info": {
   "codemirror_mode": {
    "name": "ipython",
    "version": 3
   },
   "file_extension": ".py",
   "mimetype": "text/x-python",
   "name": "python",
   "nbconvert_exporter": "python",
   "pygments_lexer": "ipython3",
   "version": "3.11.7"
  }
 },
 "nbformat": 4,
 "nbformat_minor": 5
}
