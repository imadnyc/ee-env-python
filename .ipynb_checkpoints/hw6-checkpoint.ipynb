{
 "cells": [
  {
   "cell_type": "code",
   "execution_count": 22,
   "id": "2af5827b",
   "metadata": {},
   "outputs": [
    {
     "name": "stdout",
     "output_type": "stream",
     "text": [
      "(-59.99999999999997+103.92304845413264j)\n",
      "Solutions: [-60.0 + 103.923048454133*I]\n"
     ]
    }
   ],
   "source": [
    "import electricpy as ep\n",
    "from sympy import symbols, Eq, solve, I\n",
    "voltage = ep.phasor(60, -120)\n",
    "voltage2 = ep.phasor(60, 120)\n",
    "voltage3 = voltage + voltage2\n",
    "\n",
    "print(voltage2 * 2)\n",
    "\n",
    "\n",
    "z = symbols('z')\n",
    "equation = Eq(z /2, voltage2)\n",
    "\n",
    "solutions = solve(equation, z)\n",
    " \n",
    "# printing solutions\n",
    "print(\"Solutions:\", solutions)\n",
    "\n"
   ]
  },
  {
   "cell_type": "code",
   "execution_count": null,
   "id": "68d95f7e-e869-4b32-a487-292d85e5c4ee",
   "metadata": {},
   "outputs": [],
   "source": []
  }
 ],
 "metadata": {
  "kernelspec": {
   "display_name": "Python 3",
   "language": "python",
   "name": "python3"
  },
  "language_info": {
   "codemirror_mode": {
    "name": "ipython",
    "version": 3
   },
   "file_extension": ".py",
   "mimetype": "text/x-python",
   "name": "python",
   "nbconvert_exporter": "python",
   "pygments_lexer": "ipython3",
   "version": "3.11.7"
  }
 },
 "nbformat": 4,
 "nbformat_minor": 5
}
